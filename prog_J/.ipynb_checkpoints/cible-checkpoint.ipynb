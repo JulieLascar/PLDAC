{
 "cells": [
  {
   "cell_type": "code",
   "execution_count": 44,
   "metadata": {},
   "outputs": [],
   "source": [
    "import numpy as np\n",
    "import re\n",
    "import mysql.connector\n",
    "import matplotlib.pyplot as plt\n",
    "import pandas\n",
    "from collections import Counter\n",
    "import pickle\n",
    "\n",
    "connection_params = {\n",
    "    'host' : 'localhost',\n",
    "    'user' : 'root',\n",
    "    'password' : 'masterDAC21$',\n",
    "    'database' : 'twitter1'\n",
    "}\n",
    "\n",
    "r1='select tweet_id,hash_id from tweet_hash_0401_0415'\n",
    "\n",
    "def req1(r):\n",
    "    with mysql.connector.connect(**connection_params) as db:\n",
    "        with db.cursor() as c:\n",
    "            c.execute(r)\n",
    "            result = c.fetchall()\n",
    "            L = np.array(result)\n",
    "    return L\n",
    "    \n",
    "L=req1(r1)\n",
    "\n"
   ]
  },
  {
   "cell_type": "code",
   "execution_count": 45,
   "metadata": {},
   "outputs": [],
   "source": [
    "# pas besoin données sauvegardées\n",
    "\n",
    "r2='select tweet_id,text from tweets_0401_0415'\n",
    "\n",
    "def req2(r):\n",
    "    d=dict()\n",
    "    with mysql.connector.connect(**connection_params) as db:\n",
    "        with db.cursor() as c:\n",
    "            c.execute(r)\n",
    "            result = c.fetchall()\n",
    "            for t in result :\n",
    "                d.update({t[0]:t[1]})\n",
    "    return d\n",
    "\n",
    "dico_tweet=req2(r2)\n",
    "pickle.dump(dico_tweet,open(\"dico_tweet.p\",\"wb\"))\n"
   ]
  },
  {
   "cell_type": "code",
   "execution_count": 46,
   "metadata": {},
   "outputs": [],
   "source": [
    "dico_hash= pickle.load(open(\"dico_hash.p\",\"rb\")) # chargement du dico : id_hash --> nom_hash\n",
    "dico_hash_inv= pickle.load(open(\"dico_hash_inv.p\",\"rb\")) # chargement du dico : nom_hash --> id_hash\n",
    "\n",
    "# Création d'un dictionnaire --> clé : id du tweet   valeur : liste des id hastags \n",
    "dico_tweet_hash=dict()\n",
    "for i in range(len(L)):\n",
    "    t = L[i,0]\n",
    "    h = L[i,1]\n",
    "    if t in dico_tweet_hash.keys() :\n",
    "        dico_tweet_hash[t].append(dico_hash[h])\n",
    "    else :\n",
    "       dico_tweet_hash[t] = [dico_hash[h]] "
   ]
  },
  {
   "cell_type": "code",
   "execution_count": 47,
   "metadata": {},
   "outputs": [
    {
     "name": "stdout",
     "output_type": "stream",
     "text": [
      "3204023\n"
     ]
    }
   ],
   "source": [
    "print(len(dico_tweet_hash))"
   ]
  },
  {
   "cell_type": "code",
   "execution_count": 48,
   "metadata": {},
   "outputs": [
    {
     "name": "stdout",
     "output_type": "stream",
     "text": [
      "{'Macron': 0, 'Fillon': 0, 'Lepen': 0, 'Hamon': 0, 'Melenchon': 1, 'DupontAignan': 0, 'antiMacron': 0, 'antiFillon': 0, 'Poutou': 0, 'Arthaud': 0}\n"
     ]
    }
   ],
   "source": [
    "dico_hash_candidats=pickle.load(open(\"dico_hash_candidats.p\",\"rb\")) # chargement du dico : candidat -->liste hash\n",
    "\n",
    "d_init=dict()\n",
    "for c in dico_hash_candidats.keys():\n",
    "    d_init[c]=0\n",
    "\n",
    "def tri_hash(tweet_id):\n",
    "    \"\"\"id tweet ---> dico: nb de hashtag pour chaque candidat\"\"\"\n",
    "    d=dict()  # Initialisation d'un dictionnaire pour compter le nombre de hastags de chaque candidat\n",
    "    for c in dico_hash_candidats.keys():\n",
    "        d[c]=0 \n",
    "    try :\n",
    "        L_h=dico_tweet_hash[tweet_id] # On récupère la liste des hashtags contenus dans le tweet\n",
    "        for h in L_h: # On compte le nombre de hastags du tweet qui sont présents dans la liste de ceux des candidats\n",
    "            for candidat,L in dico_hash_candidats.items():\n",
    "                if h in L:\n",
    "                    d[candidat]+=1\n",
    "        return d\n",
    "    except :\n",
    "        return d\n",
    "\n",
    "# test\n",
    "print(tri_hash(847599362809004036))"
   ]
  },
  {
   "cell_type": "code",
   "execution_count": 49,
   "metadata": {},
   "outputs": [
    {
     "name": "stdout",
     "output_type": "stream",
     "text": [
      "{'Macron': 0, 'Fillon': 0, 'Lepen': 0, 'Hamon': 0, 'Melenchon': 1, 'DupontAignan': 0, 'antiMacron': 0, 'antiFillon': 0, 'Poutou': 0, 'Arthaud': 0}\n",
      "Melenchon\n",
      "{'Macron': 0, 'Fillon': 1, 'Lepen': 1, 'Hamon': 0, 'Melenchon': 0, 'DupontAignan': 0, 'antiMacron': 0, 'antiFillon': 0, 'Poutou': 0, 'Arthaud': 0}\n",
      "None\n",
      "{'Macron': 0, 'Fillon': 0, 'Lepen': 0, 'Hamon': 0, 'Melenchon': 0, 'DupontAignan': 0, 'antiMacron': 0, 'antiFillon': 0, 'Poutou': 0, 'Arthaud': 0}\n",
      "None\n"
     ]
    }
   ],
   "source": [
    "def cible1 (tweet_id):\n",
    "    \"\"\"retourne la cible du tweet : cible s'il n y a qu'un seul candidat hashtagué\"\"\"\n",
    "    t =  tri_hash(tweet_id)\n",
    "    if len(list(filter(None,t.values()))) != 1 :\n",
    "        return None\n",
    "    else :\n",
    "        for c in dico_hash_candidats.keys():\n",
    "            if t[c] != 0:\n",
    "                return c\n",
    "\n",
    "# test1 # cas positif\n",
    "print(tri_hash(847599362809004036))\n",
    "print(cible1(847599362809004036))\n",
    "# test2 # plusieurs candidats\n",
    "print(tri_hash(847599615851470848))\n",
    "print(cible1(847599615851470848))\n",
    "# test3 # 0 candidats\n",
    "print(tri_hash(847599611774513157))\n",
    "print(cible1(847599611774513157))\n"
   ]
  },
  {
   "cell_type": "code",
   "execution_count": 50,
   "metadata": {},
   "outputs": [],
   "source": [
    "# Dans un premier temps, on considère uniquement les twweets avec hashtags.\n",
    "tweets_cible=dict()\n",
    "tweets_noncible=[]\n",
    "\n",
    "for t in dico_tweet_hash.keys():\n",
    "    c =cible1(t)\n",
    "    if c != None :\n",
    "        tweets_cible[t] = c\n",
    "    else :\n",
    "        tweets_noncible.append(t)"
   ]
  },
  {
   "cell_type": "code",
   "execution_count": 39,
   "metadata": {},
   "outputs": [
    {
     "name": "stdout",
     "output_type": "stream",
     "text": [
      "2037322\n",
      "1166701\n",
      "3204023\n"
     ]
    }
   ],
   "source": [
    "print(len(tweets_cible))\n",
    "print(len(tweets_noncible))\n",
    "print(len(dico_tweet_hash))"
   ]
  },
  {
   "cell_type": "code",
   "execution_count": 40,
   "metadata": {},
   "outputs": [
    {
     "name": "stdout",
     "output_type": "stream",
     "text": [
      "Counter({'Macron': 690445, 'Fillon': 491511, 'Melenchon': 401467, 'Lepen': 246359, 'Hamon': 132200, 'antiMacron': 52568, 'antiFillon': 10622, 'Poutou': 9285, 'DupontAignan': 2717, 'Arthaud': 148})\n"
     ]
    }
   ],
   "source": [
    "v=tweets_cible.values()\n",
    "c=Counter(v)\n",
    "print(c)"
   ]
  },
  {
   "cell_type": "code",
   "execution_count": 62,
   "metadata": {},
   "outputs": [],
   "source": [
    "#dico_tweet = pickle.load(open(\"dico_tweet.p\",\"rb\"))\n",
    "\n",
    "#L_t= list(tweets_cible.keys())\n",
    "\n",
    "def appli_cible (nb) :\n",
    "    R_cible = pickle.load(open(\"R_cible.p\",\"rb\"))\n",
    "    R_polarite = pickle.load(open(\"R_polarite.p\",\"rb\"))\n",
    "    np.random.shuffle(L_t)\n",
    "    cpt=0\n",
    "    nsp=0\n",
    "    for t in L_t[:nb]:\n",
    "        print (\"\\n\",dico_tweet[t])\n",
    "        r=input(\"Quel candidat vise ce tweet ?\\n Réponses attendues: Macron,Fillon,Melenchon,Lepen,Hamon,DupontAignan,Poutou,Arthaud,antiMacron,antiFillon,nesaispas \") \n",
    "        if str(r) == 'nesaispas':\n",
    "            nsp+=1\n",
    "        if str(r) == cible1(t):\n",
    "            cpt +=1\n",
    "        s=input(\"\\nLe tweet est il positif ou négatif par rapport au candidat choisi? Répondre 1 ou -1 ou 0 si indécis\\n\")\n",
    "        R_polarite[t]=s    \n",
    "    R_cible.append((cpt,nb))\n",
    "    pickle.dump(R_cible,open(\"R_cible.p\",\"wb\"))\n",
    "    pickle.dump(R_polarite,open(\"R_polarite.p\",\"wb\"))\n",
    "    return cpt*100/nb\n",
    "    \n",
    "  "
   ]
  },
  {
   "cell_type": "code",
   "execution_count": 59,
   "metadata": {},
   "outputs": [],
   "source": [
    "#Attention! Risque d'effacer les données!\n",
    "#R_cible=[]\n",
    "#R_polarite=dict()\n",
    "#pickle.dump(R_cible,open(\"R_cible.p\",\"wb\"))\n",
    "#pickle.dump(R_polarite,open(\"R_polarite.p\",\"wb\"))"
   ]
  },
  {
   "cell_type": "code",
   "execution_count": 60,
   "metadata": {},
   "outputs": [
    {
     "name": "stdout",
     "output_type": "stream",
     "text": [
      "\n",
      " RT @AbstentionPlus: @MdM_France @jlm_jelaime @libe avant de lire le programme de #JLM2017 (il est seul à réhumaniser notre société) c'e… \n",
      "Quel candidat vise ce tweet ?\n",
      " Réponses attendues: Macron,Fillon,Melenchon,Lepen,Hamon,DupontAignan,Poutou,Arthaud,antiMacron,antiFillon,nesaispas Melenchon\n",
      "Melenchon\n",
      "1\n",
      "\n",
      "Le tweet est il positif ou négatif par rapport au candidat choisi? Répondre 1 ou -1 ou 0 si indécis\n",
      "1\n",
      "\n",
      " RT @exbabacool: Pour #Macron  #MohamedSaou  fait des trucs radicaux mais c'est un mec bien ! Voilà voilà ! https://t.co/1iuS2WFRyr\n",
      "Quel candidat vise ce tweet ?\n",
      " Réponses attendues: Macron,Fillon,Melenchon,Lepen,Hamon,DupontAignan,Poutou,Arthaud,antiMacron,antiFillon,nesaispas Macron\n",
      "Macron\n",
      "2\n",
      "\n",
      "Le tweet est il positif ou négatif par rapport au candidat choisi? Répondre 1 ou -1 ou 0 si indécis\n",
      "-1\n"
     ]
    },
    {
     "data": {
      "text/plain": [
       "100.0"
      ]
     },
     "execution_count": 60,
     "metadata": {},
     "output_type": "execute_result"
    }
   ],
   "source": [
    "appli_cible(2)"
   ]
  },
  {
   "cell_type": "code",
   "execution_count": 61,
   "metadata": {},
   "outputs": [
    {
     "name": "stdout",
     "output_type": "stream",
     "text": [
      "[(2, 2)]\n",
      "{847599696549879809: '-1', 847599680271732736: '-1', 847599751780474881: '-1', 847599540316233728: 0, 847599706087710720: '-1', 847599744473890816: '0', 849894676094169088: '-1', 848165583233454080: '-1', 851458262843232258: '1', 849378600424013825: '1', 849328764110729223: '1', 850076008464220160: '-1', 849732746771673088: '1', 849389918371667969: '1', 850657852117135360: '-1', 852068947742642176: '1', 852900641995464704: '-1'}\n"
     ]
    }
   ],
   "source": [
    "R_cible = pickle.load(open(\"R_cible.p\",\"rb\"))\n",
    "R_polarite = pickle.load(open(\"R_polarite.p\",\"rb\"))\n",
    "print(R_cible)\n",
    "print(R_polarite)"
   ]
  },
  {
   "cell_type": "code",
   "execution_count": null,
   "metadata": {},
   "outputs": [],
   "source": [
    "\n"
   ]
  },
  {
   "cell_type": "code",
   "execution_count": null,
   "metadata": {},
   "outputs": [],
   "source": []
  }
 ],
 "metadata": {
  "interpreter": {
   "hash": "d421f7e0be82773f79ff071f6681b3a26ad583fa2b319fe248c43945bdde9151"
  },
  "kernelspec": {
   "display_name": "Python 3 (ipykernel)",
   "language": "python",
   "name": "python3"
  },
  "language_info": {
   "codemirror_mode": {
    "name": "ipython",
    "version": 3
   },
   "file_extension": ".py",
   "mimetype": "text/x-python",
   "name": "python",
   "nbconvert_exporter": "python",
   "pygments_lexer": "ipython3",
   "version": "3.9.7"
  }
 },
 "nbformat": 4,
 "nbformat_minor": 2
}

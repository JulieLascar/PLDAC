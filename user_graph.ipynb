{
 "cells": [
  {
   "cell_type": "code",
   "execution_count": 1,
   "id": "ba71e9e7",
   "metadata": {},
   "outputs": [],
   "source": [
    "import mysql.connector\n",
    "import networkx as nx\n",
    "from tqdm import tqdm\n",
    "import matplotlib.pyplot as plt\n",
    "\n",
    "connection_params = {\n",
    "    'host' : 'localhost',\n",
    "    'user' : 'root',\n",
    "    'password' : 'K@wa11',\n",
    "    'database' : 'pldac'\n",
    "}\n",
    "\n",
    "r0 = 'SELECT user_id from users_0401_0415'\n",
    "r1 = 'SELECT user_id, in_reply_to_user_id, quoted_user_id, retweeted_user_id FROM tweets_0401_0415'\n",
    "r2 = 'SELECT source_user_id, target_user_id FROM user_mentions_0401_0415'\n",
    "r3 = 'SELECT user_id FROM tweets_0401_0415 UNION SELECT in_reply_to_user_id FROM tweets_0401_0415 UNION SELECT quoted_user_id FROM tweets_0401_0415 UNION SELECT retweeted_user_id FROM tweets_0401_0415 UNION SELECT source_user_id FROM user_mentions_0401_0415 UNION SELECT target_user_id FROM user_mentions_0401_0415'\n",
    "r4 = 'SELECT * FROM users_0401_0415'\n",
    "r5 = 'select t.user_id, h.hash from tweets_0401_0415 as t, tweet_hash_0401_0415 as th, hashs_0401_0415 as h where t.tweet_id = th.tweet_id and th.hash_id = h.hash_id;'\n",
    "\n",
    "def init():\n",
    "    G = nx.MultiDiGraph()\n",
    "    with mysql.connector.connect(**connection_params) as db:\n",
    "        with db.cursor() as c:\n",
    "            c.execute(r4)\n",
    "            result = c.fetchall()\n",
    "            for node in result:\n",
    "                G.add_node(int(node[0]), screen_name = node[1], name = node[2], location = node[3], url = node[4], description = node[5], created_at = node[6], followers_count = node[7], friends_count = node[8], statuses_count = node[9], hashs = [])\n",
    "            c.execute(r1)\n",
    "            result = c.fetchall()\n",
    "            for arc in result:\n",
    "                if arc[1] != None:\n",
    "                    G.add_edge(arc[0], arc[1], type = 'reply')\n",
    "                if arc[2] != None:\n",
    "                    G.add_edge(arc[0], arc[2], type = 'quote')\n",
    "                if arc[3] != None:\n",
    "                    G.add_edge(arc[0], arc[3], type = 'retweet')\n",
    "            c.execute(r2)\n",
    "            result = c.fetchall()\n",
    "            for arc in result:\n",
    "                if arc[1] != None:\n",
    "                    G.add_edge(arc[0], arc[1], type = 'mention')\n",
    "            c.execute(r5)\n",
    "            result = c.fetchall()\n",
    "            for u in result:\n",
    "                G.nodes[int(u[0])]['hashs'].append(u[1])\n",
    "    return G"
   ]
  },
  {
   "cell_type": "code",
   "execution_count": 54,
   "id": "1e946eb5",
   "metadata": {},
   "outputs": [],
   "source": [
    "G = init()"
   ]
  },
  {
   "cell_type": "code",
   "execution_count": 42,
   "metadata": {},
   "outputs": [],
   "source": [
    "foc = []\n",
    "frc = []\n",
    "sc = []\n",
    "nbex = 0\n",
    "for n in G.nodes:\n",
    "    try:\n",
    "        foc.append(G.nodes[n]['followers_count'])\n",
    "    except:\n",
    "        nbex += 1\n",
    "    try:\n",
    "        frc.append(G.nodes[n]['friends_count'])\n",
    "    except:\n",
    "        nbex += 1\n",
    "    try:\n",
    "        sc.append(G.nodes[n]['statuses_count'])\n",
    "    except:\n",
    "        nbex += 1\n"
   ]
  },
  {
   "cell_type": "code",
   "execution_count": 43,
   "metadata": {},
   "outputs": [
    {
     "name": "stdout",
     "output_type": "stream",
     "text": [
      "827592\n"
     ]
    },
    {
     "data": {
      "image/png": "[encoded data removed]",
      "text/plain": [
       "<Figure size 432x288 with 1 Axes>"
      ]
     },
     "metadata": {
      "needs_background": "light"
     },
     "output_type": "display_data"
    }
   ],
   "source": [
    "print(nbex)\n",
    "plt.hist(foc)\n",
    "plt.show()"
   ]
  },
  {
   "cell_type": "code",
   "execution_count": 44,
   "metadata": {},
   "outputs": [
    {
     "data": {
      "image/png": "[encoded data removed]",
      "text/plain": [
       "<Figure size 432x288 with 1 Axes>"
      ]
     },
     "metadata": {
      "needs_background": "light"
     },
     "output_type": "display_data"
    }
   ],
   "source": [
    "plt.hist(frc)\n",
    "plt.show()"
   ]
  },
  {
   "cell_type": "code",
   "execution_count": 45,
   "metadata": {},
   "outputs": [
    {
     "data": {
      "image/png": "[encoded data removed]",
      "text/plain": [
       "<Figure size 432x288 with 1 Axes>"
      ]
     },
     "metadata": {
      "needs_background": "light"
     },
     "output_type": "display_data"
    }
   ],
   "source": [
    "plt.hist(sc)\n",
    "plt.show()"
   ]
  },
  {
   "cell_type": "code",
   "execution_count": 47,
   "id": "8a0ef8e1",
   "metadata": {},
   "outputs": [],
   "source": [
    "location = []\n",
    "for n in G.nodes:\n",
    "    try:\n",
    "        location.append(G.nodes[n]['location'])\n",
    "    except:\n",
    "       location "
   ]
  },
  {
   "cell_type": "code",
   "execution_count": 50,
   "metadata": {},
   "outputs": [
    {
     "name": "stdout",
     "output_type": "stream",
     "text": [
      "141803\n"
     ]
    }
   ],
   "source": [
    "print(len(set(location)))"
   ]
  },
  {
   "cell_type": "code",
   "execution_count": 56,
   "metadata": {},
   "outputs": [],
   "source": [
    "nx.write_gpickle(G, 'graph.gpickle')"
   ]
  },
  {
   "cell_type": "code",
   "execution_count": 57,
   "metadata": {},
   "outputs": [
    {
     "name": "stdout",
     "output_type": "stream",
     "text": [
      "[]\n"
     ]
    }
   ],
   "source": [
    "for n in G.nodes:\n",
    "    print(G.nodes[n]['hashs'])"
   ]
  }
 ],
 "metadata": {
  "interpreter": {
   "hash": "aee8b7b246df8f9039afb4144a1f6fd8d2ca17a180786b69acc140d282b71a49"
  },
  "kernelspec": {
   "display_name": "Python 3.9.10 64-bit",
   "name": "python3"
  },
  "language_info": {
   "codemirror_mode": {
    "name": "ipython",
    "version": 3
   },
   "file_extension": ".py",
   "mimetype": "text/x-python",
   "name": "python",
   "nbconvert_exporter": "python",
   "pygments_lexer": "ipython3",
   "version": "3.9.10"
  }
 },
 "nbformat": 4,
 "nbformat_minor": 5
}
